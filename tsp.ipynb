{
 "cells": [
  {
   "cell_type": "code",
   "execution_count": 1,
   "metadata": {},
   "outputs": [],
   "source": [
    "import logging\n",
    "from itertools import combinations\n",
    "import pandas as pd\n",
    "import numpy as np\n",
    "from geopy.distance import geodesic\n",
    "import networkx as nx\n",
    "import random as rd\n",
    "\n",
    "from icecream import ic\n",
    "\n",
    "logging.basicConfig(level=logging.DEBUG)"
   ]
  },
  {
   "cell_type": "code",
   "execution_count": 2,
   "metadata": {},
   "outputs": [
    {
     "data": {
      "text/html": [
       "<div>\n",
       "<style scoped>\n",
       "    .dataframe tbody tr th:only-of-type {\n",
       "        vertical-align: middle;\n",
       "    }\n",
       "\n",
       "    .dataframe tbody tr th {\n",
       "        vertical-align: top;\n",
       "    }\n",
       "\n",
       "    .dataframe thead th {\n",
       "        text-align: right;\n",
       "    }\n",
       "</style>\n",
       "<table border=\"1\" class=\"dataframe\">\n",
       "  <thead>\n",
       "    <tr style=\"text-align: right;\">\n",
       "      <th></th>\n",
       "      <th>name</th>\n",
       "      <th>lat</th>\n",
       "      <th>lon</th>\n",
       "    </tr>\n",
       "  </thead>\n",
       "  <tbody>\n",
       "    <tr>\n",
       "      <th>0</th>\n",
       "      <td>Abakan</td>\n",
       "      <td>53.72</td>\n",
       "      <td>91.43</td>\n",
       "    </tr>\n",
       "    <tr>\n",
       "      <th>1</th>\n",
       "      <td>Achinsk</td>\n",
       "      <td>56.28</td>\n",
       "      <td>90.50</td>\n",
       "    </tr>\n",
       "    <tr>\n",
       "      <th>2</th>\n",
       "      <td>Almetyevsk</td>\n",
       "      <td>54.90</td>\n",
       "      <td>52.31</td>\n",
       "    </tr>\n",
       "    <tr>\n",
       "      <th>3</th>\n",
       "      <td>Angarsk</td>\n",
       "      <td>52.57</td>\n",
       "      <td>103.91</td>\n",
       "    </tr>\n",
       "    <tr>\n",
       "      <th>4</th>\n",
       "      <td>Arkhangelsk</td>\n",
       "      <td>64.57</td>\n",
       "      <td>40.53</td>\n",
       "    </tr>\n",
       "  </tbody>\n",
       "</table>\n",
       "</div>"
      ],
      "text/plain": [
       "          name    lat     lon\n",
       "0       Abakan  53.72   91.43\n",
       "1      Achinsk  56.28   90.50\n",
       "2   Almetyevsk  54.90   52.31\n",
       "3      Angarsk  52.57  103.91\n",
       "4  Arkhangelsk  64.57   40.53"
      ]
     },
     "execution_count": 2,
     "metadata": {},
     "output_type": "execute_result"
    }
   ],
   "source": [
    "CITIES = pd.read_csv('cities/russia.csv', header=None, names=['name', 'lat', 'lon'])\n",
    "DIST_MATRIX = np.zeros((len(CITIES), len(CITIES)))\n",
    "for c1, c2 in combinations(CITIES.itertuples(), 2):\n",
    "    DIST_MATRIX[c1.Index, c2.Index] = DIST_MATRIX[c2.Index, c1.Index] = geodesic(\n",
    "        (c1.lat, c1.lon), (c2.lat, c2.lon)\n",
    "    ).km\n",
    "CITIES.head()"
   ]
  },
  {
   "cell_type": "markdown",
   "metadata": {},
   "source": [
    "## Lab2 - TSP\n",
    "\n",
    "https://www.wolframcloud.com/obj/giovanni.squillero/Published/Lab2-tsp.nb"
   ]
  },
  {
   "cell_type": "code",
   "execution_count": 3,
   "metadata": {},
   "outputs": [],
   "source": [
    "def tsp_cost(tsp):\n",
    "\n",
    "    tot_cost = 0\n",
    "    for c1, c2 in zip(tsp, tsp[1:]):\n",
    "        tot_cost += DIST_MATRIX[c1, c2]\n",
    "    \n",
    "    tot_cost += DIST_MATRIX[tsp[-1], tsp[0]]\n",
    "    return tot_cost"
   ]
  },
  {
   "cell_type": "code",
   "execution_count": 4,
   "metadata": {},
   "outputs": [],
   "source": [
    "POPULATION_SIZE = 100"
   ]
  },
  {
   "cell_type": "markdown",
   "metadata": {},
   "source": [
    "### get a starting greedy path"
   ]
  },
  {
   "cell_type": "code",
   "execution_count": 5,
   "metadata": {},
   "outputs": [],
   "source": [
    "visited = np.full(len(CITIES), False)\n",
    "dist = DIST_MATRIX.copy()\n",
    "city = 0\n",
    "visited[city] = True\n",
    "tsp = list()\n",
    "tsp.append(int(city))\n",
    "while not np.all(visited):\n",
    "    dist[:, city] = np.inf\n",
    "    closest = np.argmin(dist[city])\n",
    "    visited[closest] = True\n",
    "    city = closest\n",
    "    tsp.append(int(city))\n"
   ]
  },
  {
   "cell_type": "markdown",
   "metadata": {},
   "source": [
    "### start from a randomized greedy population of paths\n"
   ]
  },
  {
   "cell_type": "code",
   "execution_count": 6,
   "metadata": {},
   "outputs": [],
   "source": [
    "def partial_greedy_randomization(tsp, num_randomized):\n",
    "    tsp = tsp.copy()  # Create a copy to avoid modifying the original\n",
    "        \n",
    "    indices = rd.sample(range(len(tsp)), num_randomized)\n",
    "    randomized_part = [tsp[i] for i in indices]\n",
    "    \n",
    "    # Shuffle the selected segment\n",
    "    rd.shuffle(randomized_part)\n",
    "    \n",
    "    # Insert the shuffled segment back into the original list\n",
    "    for i, idx in enumerate(indices):\n",
    "        tsp[idx] = randomized_part[i]\n",
    "    \n",
    "    return tsp"
   ]
  },
  {
   "cell_type": "code",
   "execution_count": 7,
   "metadata": {},
   "outputs": [],
   "source": [
    "population = []\n",
    "while len(population) < POPULATION_SIZE:\n",
    "    rd_tsp = partial_greedy_randomization(tsp,10)\n",
    "    rd_tsp.append(rd_tsp[0]) # always return to the starting city\n",
    "    if set(rd_tsp[:-1]) == set(range(len(CITIES))):\n",
    "        population.append(rd_tsp)\n",
    "    "
   ]
  },
  {
   "cell_type": "markdown",
   "metadata": {},
   "source": [
    "### define mutation function for the offspring"
   ]
  },
  {
   "cell_type": "code",
   "execution_count": 8,
   "metadata": {},
   "outputs": [],
   "source": [
    "def insert_mutation(tsp):\n",
    "    i,j = rd.randint(1,len(tsp)-1), rd.randint(1,len(tsp)-1)\n",
    "    # insert mutation\n",
    "    if i != j:\n",
    "        if i < j:\n",
    "            city_to_move = tsp[j]\n",
    "            tsp.pop(j)\n",
    "            tsp.insert(i+1,city_to_move)\n",
    "        elif i > j:\n",
    "            city_to_move = tsp[i]\n",
    "            tsp.pop(i)\n",
    "            tsp.insert(j+1,city_to_move)\n",
    "    return tsp "
   ]
  },
  {
   "cell_type": "markdown",
   "metadata": {},
   "source": [
    "### define inver over crossover to generate the offspring"
   ]
  },
  {
   "cell_type": "code",
   "execution_count": 9,
   "metadata": {},
   "outputs": [],
   "source": [
    "def io_crossover(p1, p2):\n",
    "    # indexes extraction\n",
    "    i = np.random.randint(1, len(p1)-1)\n",
    "    j = np.random.randint(i, len(p1)-1)\n",
    "\n",
    "    \n",
    "    o = [v for v in p1] # offspring\n",
    "\n",
    "    if np.random.rand() < 0.2: # I use only p1 with probability 0.2 (indexes are i and j), otherwise I use also p2\n",
    "        segment = p1[i:j]\n",
    "        segment = segment[::-1]\n",
    "        o[i:j] = segment\n",
    "    else:\n",
    "        node = p1[i] # value to search in p2\n",
    "        el_to_find = p2[p2.index(node)+1] # element next to the previous value in p2\n",
    "        node2 = p1.index(el_to_find) # index of the previously found element in p1\n",
    "        if node2 > i: \n",
    "            segment = p1[i:node2] # segment between the two nodes\n",
    "            segment = segment[::-1]\n",
    "            o[i:node2] = segment \n",
    "            o.pop(node2) # remove the second node \n",
    "            o.insert(i+1,el_to_find) # insert it next to the first and slide the  following elements\n",
    "        elif i > node2:\n",
    "            segment = p1[node2:i]\n",
    "            segment = segment[::-1]\n",
    "            o[node2:i] = segment\n",
    "            o.pop(i)\n",
    "            o.insert(node2+1,el_to_find)\n",
    "\n",
    "    return o\n",
    "\n"
   ]
  },
  {
   "cell_type": "markdown",
   "metadata": {},
   "source": [
    "### define fitness proportional selection function to select the parents"
   ]
  },
  {
   "cell_type": "code",
   "execution_count": 10,
   "metadata": {},
   "outputs": [],
   "source": [
    "def fitness_proportional_parents(population, fitness): # k is the number of individuals to select\n",
    "    total_fitness = sum(fitness)\n",
    "    probabilities = [1-(f / total_fitness) for f in fitness] # probabilities are the inverse of the cost\n",
    "    return rd.choices(population, probabilities, k=50)\n",
    "\n",
    "def fitness_proportional_population(population, fitness): # k is the number of individuals to select\n",
    "    total_fitness = sum(fitness)\n",
    "    probabilities = [1-(f / total_fitness) for f in fitness]\n",
    "    return rd.choices(population, probabilities, k=100)"
   ]
  },
  {
   "cell_type": "markdown",
   "metadata": {},
   "source": [
    "### define the generational loop"
   ]
  },
  {
   "cell_type": "code",
   "execution_count": 11,
   "metadata": {},
   "outputs": [
    {
     "name": "stdout",
     "output_type": "stream",
     "text": [
      "48749.33320741077\n"
     ]
    }
   ],
   "source": [
    "best_costs = []\n",
    "for steps in range (1000):\n",
    "    costs = [tsp_cost(i) for i in population]\n",
    "    parents = fitness_proportional_parents(population, costs) # parent selection (50 parents)\n",
    "\n",
    "    for i in range(0, len(parents)-1,2): # take pairs of parents to do crossover\n",
    "\n",
    "        p1,p2 = parents[i], parents[i+1]\n",
    "\n",
    "        o1 = io_crossover(p1,p2)\n",
    "        if np.random.random() < 0.5: # mutate the offspring with probability 0.5\n",
    "            o1 = insert_mutation(o1)\n",
    "        if o1[0] == o1[-1] and len(set(o1[:-1])) == len(CITIES): \n",
    "            population.extend([o1])\n",
    "\n",
    "\n",
    "\n",
    "    costs = [tsp_cost(i) for i in population]\n",
    "    population = fitness_proportional_population(population, costs) # prune the population to the desired size\n",
    "    best_costs.append(min(costs))\n",
    "\n",
    "print(min(best_costs))\n",
    "\n",
    "\n"
   ]
  }
 ],
 "metadata": {
  "kernelspec": {
   "display_name": "Python 3",
   "language": "python",
   "name": "python3"
  },
  "language_info": {
   "codemirror_mode": {
    "name": "ipython",
    "version": 3
   },
   "file_extension": ".py",
   "mimetype": "text/x-python",
   "name": "python",
   "nbconvert_exporter": "python",
   "pygments_lexer": "ipython3",
   "version": "3.12.0"
  }
 },
 "nbformat": 4,
 "nbformat_minor": 2
}
